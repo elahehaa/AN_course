{
 "cells": [
  {
   "cell_type": "markdown",
   "metadata": {},
   "source": [
    "# Convolutional Neural Networks: Application\n",
    "\n",
    "Welcome to Course 4's second assignment! In this notebook, you will:\n",
    "\n",
    "- Create a mood classifer using the TF Keras Sequential API\n",
    "- Build a ConvNet to identify sign language digits using the TF Keras Functional API\n",
    "\n",
    "**After this assignment you will be able to:**\n",
    "\n",
    "- Build and train a ConvNet in TensorFlow for a __binary__ classification problem\n",
    "- Build and train a ConvNet in TensorFlow for a __multiclass__ classification problem\n",
    "- Explain different use cases for the Sequential and Functional APIs\n",
    "\n",
    "To complete this assignment, you should already be familiar with TensorFlow. If you are not, please refer back to the **TensorFlow Tutorial** of the third week of Course 2 (\"**Improving deep neural networks**\").\n",
    "\n",
    "## Important Note on Submission to the AutoGrader\n",
    "\n",
    "Before submitting your assignment to the AutoGrader, please make sure you are not doing the following:\n",
    "\n",
    "1. You have not added any _extra_ `print` statement(s) in the assignment.\n",
    "2. You have not added any _extra_ code cell(s) in the assignment.\n",
    "3. You have not changed any of the function parameters.\n",
    "4. You are not using any global variables inside your graded exercises. Unless specifically instructed to do so, please refrain from it and use the local variables instead.\n",
    "5. You are not changing the assignment code where it is not required, like creating _extra_ variables.\n",
    "\n",
    "If you do any of the following, you will get something like, `Grader not found` (or similarly unexpected) error upon submitting your assignment. Before asking for help/debugging the errors in your assignment, check for these first. If this is the case, and you don't remember the changes you have made, you can get a fresh copy of the assignment by following these [instructions](https://www.coursera.org/learn/convolutional-neural-networks/supplement/DS4yP/h-ow-to-refresh-your-workspace)."
   ]
  },
  {
   "cell_type": "markdown",
   "metadata": {},
   "source": [
    "## Table of Contents\n",
    "\n",
    "- [1 - Packages](#1)\n",
    "    - [1.1 - Load the Data and Split the Data into Train/Test Sets](#1-1)\n",
    "- [2 - Layers in TF Keras](#2)\n",
    "- [3 - The Sequential API](#3)\n",
    "    - [3.1 - Create the Sequential Model](#3-1)\n",
    "        - [Exercise 1 - happyModel](#ex-1)\n",
    "    - [3.2 - Train and Evaluate the Model](#3-2)\n",
    "- [4 - The Functional API](#4)\n",
    "    - [4.1 - Load the SIGNS Dataset](#4-1)\n",
    "    - [4.2 - Split the Data into Train/Test Sets](#4-2)\n",
    "    - [4.3 - Forward Propagation](#4-3)\n",
    "        - [Exercise 2 - convolutional_model](#ex-2)\n",
    "    - [4.4 - Train the Model](#4-4)\n",
    "- [5 - History Object](#5)\n",
    "- [6 - Bibliography](#6)"
   ]
  },
  {
   "cell_type": "markdown",
   "metadata": {},
   "source": [
    "<a name='1'></a>\n",
    "## 1 - Packages\n",
    "\n",
    "As usual, begin by loading in the packages."
   ]
  },
  {
   "cell_type": "code",
   "execution_count": 1,
   "metadata": {},
   "outputs": [],
   "source": [
    "import math\n",
    "import numpy as np\n",
    "import h5py\n",
    "import matplotlib.pyplot as plt\n",
    "from matplotlib.pyplot import imread\n",
    "import scipy\n",
    "from PIL import Image\n",
    "import pandas as pd\n",
    "import tensorflow as tf\n",
    "import tensorflow.keras.layers as tfl\n",
    "from tensorflow.python.framework import ops\n",
    "from cnn_utils import *\n",
    "from test_utils import summary, comparator\n",
    "\n",
    "%matplotlib inline\n",
    "np.random.seed(1)"
   ]
  },
  {
   "cell_type": "markdown",
   "metadata": {},
   "source": [
    "<a name='1-1'></a>\n",
    "### 1.1 - Load the Data and Split the Data into Train/Test Sets\n",
    "\n",
    "You'll be using the Happy House dataset for this part of the assignment, which contains images of peoples' faces. Your task will be to build a ConvNet that determines whether the people in the images are smiling or not -- because they only get to enter the house if they're smiling!  "
   ]
  },
  {
   "cell_type": "code",
   "execution_count": 2,
   "metadata": {},
   "outputs": [
    {
     "name": "stdout",
     "output_type": "stream",
     "text": [
      "number of training examples = 600\n",
      "number of test examples = 150\n",
      "X_train shape: (600, 64, 64, 3)\n",
      "Y_train shape: (600, 1)\n",
      "X_test shape: (150, 64, 64, 3)\n",
      "Y_test shape: (150, 1)\n"
     ]
    }
   ],
   "source": [
    "X_train_orig, Y_train_orig, X_test_orig, Y_test_orig, classes = load_happy_dataset()\n",
    "\n",
    "# Normalize image vectors\n",
    "X_train = X_train_orig/255.\n",
    "X_test = X_test_orig/255.\n",
    "\n",
    "# Reshape\n",
    "Y_train = Y_train_orig.T\n",
    "Y_test = Y_test_orig.T\n",
    "\n",
    "print (\"number of training examples = \" + str(X_train.shape[0]))\n",
    "print (\"number of test examples = \" + str(X_test.shape[0]))\n",
    "print (\"X_train shape: \" + str(X_train.shape))\n",
    "print (\"Y_train shape: \" + str(Y_train.shape))\n",
    "print (\"X_test shape: \" + str(X_test.shape))\n",
    "print (\"Y_test shape: \" + str(Y_test.shape))"
   ]
  },
  {
   "cell_type": "markdown",
   "metadata": {},
   "source": [
    "You can display the images contained in the dataset. Images are **64x64** pixels in RGB format (3 channels)."
   ]
  },
  {
   "cell_type": "code",
   "execution_count": 3,
   "metadata": {},
   "outputs": [
    {
     "data": {
      "image/png": "[encoded data removed]",
      "text/plain": [
       "<Figure size 432x288 with 1 Axes>"
      ]
     },
     "metadata": {
      "needs_background": "light"
     },
     "output_type": "display_data"
    }
   ],
   "source": [
    "index = 124\n",
    "plt.imshow(X_train_orig[index]) #display sample training image\n",
    "plt.show()"
   ]
  },
  {
   "cell_type": "markdown",
   "metadata": {},
   "source": [
    "<a name='2'></a>\n",
    "## 2 - Layers in TF Keras \n",
    "\n",
    "In the previous assignment, you created layers manually in numpy. In TF Keras, you don't have to write code directly to create layers. Rather, TF Keras has pre-defined layers you can use. \n",
    "\n",
    "When you create a layer in TF Keras, you are creating a function that takes some input and transforms it into an output you can reuse later. Nice and easy! "
   ]
  },
  {
   "cell_type": "markdown",
   "metadata": {},
   "source": [
    "<a name='3'></a>\n",
    "## 3 - The Sequential API\n",
    "\n",
    "In the previous assignment, you built helper functions using `numpy` to understand the mechanics behind convolutional neural networks. Most practical applications of deep learning today are built using programming frameworks, which have many built-in functions you can simply call. Keras is a high-level abstraction built on top of TensorFlow, which allows for even more simplified and optimized model creation and training. \n",
    "\n",
    "For the first part of this assignment, you'll create a model using TF Keras' Sequential API, which allows you to build layer by layer, and is ideal for building models where each layer has **exactly one** input tensor and **one** output tensor. \n",
    "\n",
    "As you'll see, using the Sequential API is simple and straightforward, but is only appropriate for simpler, more straightforward tasks. Later in this notebook you'll spend some time building with a more flexible, powerful alternative: the Functional API. \n",
    " "
   ]
  },
  {
   "cell_type": "markdown",
   "metadata": {},
   "source": [
    "<a name='3-1'></a>\n",
    "### 3.1 - Create the Sequential Model\n",
    "\n",
    "As mentioned earlier, the TensorFlow Keras Sequential API can be used to build simple models with layer operations that proceed in a sequential order. \n",
    "\n",
    "You can also add layers incrementally to a Sequential model with the `.add()` method, or remove them using the `.pop()` method, much like you would in a regular Python list.\n",
    "\n",
    "Actually, you can think of a Sequential model as behaving like a list of layers. Like Python lists, Sequential layers are ordered, and the order in which they are specified matters.  If your model is non-linear or contains layers with multiple inputs or outputs, a Sequential model wouldn't be the right choice!\n",
    "\n",
    "For any layer construction in Keras, you'll need to specify the input shape in advance. This is because in Keras, the shape of the weights is based on the shape of the inputs. The weights are only created when the model first sees some input data. Sequential models can be created by passing a list of layers to the Sequential constructor, like you will do in the next assignment.\n",
    "\n",
    "<a name='ex-1'></a>\n",
    "### Exercise 1 - happyModel\n",
    "\n",
    "Implement the `happyModel` function below to build the following model: `ZEROPAD2D -> CONV2D -> BATCHNORM -> RELU -> MAXPOOL -> FLATTEN -> DENSE`. Take help from [tf.keras.layers](https://www.tensorflow.org/api_docs/python/tf/keras/layers) \n",
    "\n",
    "Also, plug in the following parameters for all the steps:\n",
    "\n",
    " - [ZeroPadding2D](https://www.tensorflow.org/api_docs/python/tf/keras/layers/ZeroPadding2D): padding 3, input shape 64 x 64 x 3\n",
    " - [Conv2D](https://www.tensorflow.org/api_docs/python/tf/keras/layers/Conv2D): Use 32 7x7 filters, stride 1\n",
    " - [BatchNormalization](https://www.tensorflow.org/api_docs/python/tf/keras/layers/BatchNormalization): for axis 3\n",
    " - [ReLU](https://www.tensorflow.org/api_docs/python/tf/keras/layers/ReLU)\n",
    " - [MaxPool2D](https://www.tensorflow.org/api_docs/python/tf/keras/layers/MaxPool2D): Using default parameters\n",
    " - [Flatten](https://www.tensorflow.org/api_docs/python/tf/keras/layers/Flatten) the previous output.\n",
    " - Fully-connected ([Dense](https://www.tensorflow.org/api_docs/python/tf/keras/layers/Dense)) layer: Apply a fully connected layer with 1 neuron and a sigmoid activation. \n",
    " \n",
    " \n",
    " **Hint:**\n",
    " \n",
    " Use **tfl** as shorthand for **tensorflow.keras.layers**"
   ]
  },
  {
   "cell_type": "code",
   "execution_count": 4,
   "metadata": {
    "deletable": false,
    "nbgrader": {
     "cell_type": "code",
     "checksum": "95d28b191f257bdd5b70c7b8952559d5",
     "grade": false,
     "grade_id": "cell-0e56d3fc28b69aec",
     "locked": false,
     "schema_version": 3,
     "solution": true,
     "task": false
    }
   },
   "outputs": [],
   "source": [
    "# GRADED FUNCTION: happyModel\n",
    "\n",
    "def happyModel():\n",
    "    \"\"\"\n",
    "    Implements the forward propagation for the binary classification model:\n",
    "    ZEROPAD2D -> CONV2D -> BATCHNORM -> RELU -> MAXPOOL -> FLATTEN -> DENSE\n",
    "    \n",
    "    Note that for simplicity and grading purposes, you'll hard-code all the values\n",
    "    such as the stride and kernel (filter) sizes. \n",
    "    Normally, functions should take these values as function parameters.\n",
    "    \n",
    "    Arguments:\n",
    "    None\n",
    "\n",
    "    Returns:\n",
    "    model -- TF Keras model (object containing the information for the entire training process) \n",
    "    \"\"\"\n",
    "    model = tf.keras.Sequential([\n",
    "            ## ZeroPadding2D with padding 3, input shape of 64 x 64 x 3\n",
    "            \n",
    "            ## Conv2D with 32 7x7 filters and stride of 1\n",
    "            \n",
    "            ## BatchNormalization for axis 3\n",
    "            \n",
    "            ## ReLU\n",
    "            \n",
    "            ## Max Pooling 2D with default parameters\n",
    "            \n",
    "            ## Flatten layer\n",
    "            \n",
    "            ## Dense layer with 1 unit for output & 'sigmoid' activation\n",
    "            \n",
    "            # YOUR CODE STARTS HERE\n",
    "            tfl.ZeroPadding2D(padding=(3,3), input_shape = (64, 64, 3)),\n",
    "            tfl.Conv2D(32, kernel_size = (7, 7), strides=(1, 1)),\n",
    "            tfl.BatchNormalization (axis = 3),\n",
    "            tfl.ReLU(),\n",
    "            tfl.MaxPool2D(),\n",
    "            tfl.Flatten(),\n",
    "            tfl.Dense(1, activation='sigmoid')\n",
    "            \n",
    "            # YOUR CODE ENDS HERE\n",
    "        ])\n",
    "    \n",
    "    return model"
   ]
  },
  {
   "cell_type": "code",
   "execution_count": 5,
   "metadata": {
    "deletable": false,
    "editable": false,
    "nbgrader": {
     "cell_type": "code",
     "checksum": "8d3575c950e2e78149be2d05d671c80d",
     "grade": true,
     "grade_id": "cell-e3e1046e5c33d775",
     "locked": true,
     "points": 10,
     "schema_version": 3,
     "solution": false,
     "task": false
    }
   },
   "outputs": [
    {
     "name": "stdout",
     "output_type": "stream",
     "text": [
      "['ZeroPadding2D', (None, 70, 70, 3), 0, ((3, 3), (3, 3))]\n",
      "['Conv2D', (None, 64, 64, 32), 4736, 'valid', 'linear', 'GlorotUniform']\n",
      "['BatchNormalization', (None, 64, 64, 32), 128]\n",
      "['ReLU', (None, 64, 64, 32), 0]\n",
      "['MaxPooling2D', (None, 32, 32, 32), 0, (2, 2), (2, 2), 'valid']\n",
      "['Flatten', (None, 32768), 0]\n",
      "['Dense', (None, 1), 32769, 'sigmoid']\n",
      "\u001b[32mAll tests passed!\u001b[0m\n"
     ]
    }
   ],
   "source": [
    "happy_model = happyModel()\n",
    "# Print a summary for each layer\n",
    "for layer in summary(happy_model):\n",
    "    print(layer)\n",
    "    \n",
    "output = [['ZeroPadding2D', (None, 70, 70, 3), 0, ((3, 3), (3, 3))],\n",
    "            ['Conv2D', (None, 64, 64, 32), 4736, 'valid', 'linear', 'GlorotUniform'],\n",
    "            ['BatchNormalization', (None, 64, 64, 32), 128],\n",
    "            ['ReLU', (None, 64, 64, 32), 0],\n",
    "            ['MaxPooling2D', (None, 32, 32, 32), 0, (2, 2), (2, 2), 'valid'],\n",
    "            ['Flatten', (None, 32768), 0],\n",
    "            ['Dense', (None, 1), 32769, 'sigmoid']]\n",
    "    \n",
    "comparator(summary(happy_model), output)"
   ]
  },
  {
   "cell_type": "markdown",
   "metadata": {},
   "source": [
    "Now that your model is created, you can compile it for training with an optimizer and loss of your choice. When the string `accuracy` is specified as a metric, the type of accuracy used will be automatically converted based on the loss function used. This is one of the many optimizations built into TensorFlow that make your life easier! If you'd like to read more on how the compiler operates, check the docs [here](https://www.tensorflow.org/api_docs/python/tf/keras/Model#compile)."
   ]
  },
  {
   "cell_type": "code",
   "execution_count": 6,
   "metadata": {},
   "outputs": [],
   "source": [
    "happy_model.compile(optimizer='adam',\n",
    "                   loss='binary_crossentropy',\n",
    "                   metrics=['accuracy'])"
   ]
  },
  {
   "cell_type": "markdown",
   "metadata": {},
   "source": [
    "It's time to check your model's parameters with the `.summary()` method. This will display the types of layers you have, the shape of the outputs, and how many parameters are in each layer. "
   ]
  },
  {
   "cell_type": "code",
   "execution_count": 7,
   "metadata": {},
   "outputs": [
    {
     "name": "stdout",
     "output_type": "stream",
     "text": [
      "Model: \"sequential\"\n",
      "_________________________________________________________________\n",
      "Layer (type)                 Output Shape              Param #   \n",
      "=================================================================\n",
      "zero_padding2d (ZeroPadding2 (None, 70, 70, 3)         0         \n",
      "_________________________________________________________________\n",
      "conv2d (Conv2D)              (None, 64, 64, 32)        4736      \n",
      "_________________________________________________________________\n",
      "batch_normalization (BatchNo (None, 64, 64, 32)        128       \n",
      "_________________________________________________________________\n",
      "re_lu (ReLU)                 (None, 64, 64, 32)        0         \n",
      "_________________________________________________________________\n",
      "max_pooling2d (MaxPooling2D) (None, 32, 32, 32)        0         \n",
      "_________________________________________________________________\n",
      "flatten (Flatten)            (None, 32768)             0         \n",
      "_________________________________________________________________\n",
      "dense (Dense)                (None, 1)                 32769     \n",
      "=================================================================\n",
      "Total params: 37,633\n",
      "Trainable params: 37,569\n",
      "Non-trainable params: 64\n",
      "_________________________________________________________________\n"
     ]
    }
   ],
   "source": [
    "happy_model.summary()"
   ]
  },
  {
   "cell_type": "markdown",
   "metadata": {},
   "source": [
    "<a name='3-2'></a>\n",
    "### 3.2 - Train and Evaluate the Model\n",
    "\n",
    "After creating the model, compiling it with your choice of optimizer and loss function, and doing a sanity check on its contents, you are now ready to build! \n",
    "\n",
    "Simply call `.fit()` to train. That's it! No need for mini-batching, saving, or complex backpropagation computations. That's all been done for you, as you're using a TensorFlow dataset with the batches specified already. You do have the option to specify epoch number or minibatch size if you like (for example, in the case of an un-batched dataset)."
   ]
  },
  {
   "cell_type": "code",
   "execution_count": 8,
   "metadata": {},
   "outputs": [
    {
     "name": "stdout",
     "output_type": "stream",
     "text": [
      "Epoch 1/10\n",
      "38/38 [==============================] - 4s 100ms/step - loss: 0.8759 - accuracy: 0.7450\n",
      "Epoch 2/10\n",
      "38/38 [==============================] - 4s 97ms/step - loss: 0.2246 - accuracy: 0.9133\n",
      "Epoch 3/10\n",
      "38/38 [==============================] - 4s 95ms/step - loss: 0.1634 - accuracy: 0.9417\n",
      "Epoch 4/10\n",
      "38/38 [==============================] - 4s 95ms/step - loss: 0.1647 - accuracy: 0.9333\n",
      "Epoch 5/10\n",
      "38/38 [==============================] - 4s 97ms/step - loss: 0.1871 - accuracy: 0.9367\n",
      "Epoch 6/10\n",
      "38/38 [==============================] - 4s 97ms/step - loss: 0.1261 - accuracy: 0.9617\n",
      "Epoch 7/10\n",
      "38/38 [==============================] - 4s 95ms/step - loss: 0.2713 - accuracy: 0.9083\n",
      "Epoch 8/10\n",
      "38/38 [==============================] - 4s 97ms/step - loss: 0.0823 - accuracy: 0.9717\n",
      "Epoch 9/10\n",
      "38/38 [==============================] - 4s 95ms/step - loss: 0.1238 - accuracy: 0.9633 0s - loss: 0.1363 - accura\n",
      "Epoch 10/10\n",
      "38/38 [==============================] - 4s 95ms/step - loss: 0.0756 - accuracy: 0.9700\n"
     ]
    },
    {
     "data": {
      "text/plain": [
       "<tensorflow.python.keras.callbacks.History at 0x7f20f61cca50>"
      ]
     },
     "execution_count": 8,
     "metadata": {},
     "output_type": "execute_result"
    }
   ],
   "source": [
    "happy_model.fit(X_train, Y_train, epochs=10, batch_size=16)"
   ]
  },
  {
   "cell_type": "markdown",
   "metadata": {},
   "source": [
    "After that completes, just use `.evaluate()` to evaluate against your test set. This function will print the value of the loss function and the performance metrics specified during the compilation of the model. In this case, the `binary_crossentropy` and the `accuracy` respectively."
   ]
  },
  {
   "cell_type": "code",
   "execution_count": 9,
   "metadata": {},
   "outputs": [
    {
     "name": "stdout",
     "output_type": "stream",
     "text": [
      "5/5 [==============================] - 0s 23ms/step - loss: 0.2214 - accuracy: 0.9200\n"
     ]
    },
    {
     "data": {
      "text/plain": [
       "[0.22141097486019135, 0.9200000166893005]"
      ]
     },
     "execution_count": 9,
     "metadata": {},
     "output_type": "execute_result"
    }
   ],
   "source": [
    "happy_model.evaluate(X_test, Y_test)"
   ]
  },
  {
   "cell_type": "markdown",
   "metadata": {},
   "source": [
    "Easy, right? But what if you need to build a model with shared layers, branches, or multiple inputs and outputs? This is where Sequential, with its beautifully simple yet limited functionality, won't be able to help you. \n",
    "\n",
    "Next up: Enter the Functional API, your slightly more complex, highly flexible friend.  "
   ]
  },
  {
   "cell_type": "markdown",
   "metadata": {},
   "source": [
    "<a name='4'></a>\n",
    "## 4 - The Functional API"
   ]
  },
  {
   "cell_type": "markdown",
   "metadata": {},
   "source": [
    "Welcome to the second half of the assignment, where you'll use Keras' flexible [Functional API](https://www.tensorflow.org/guide/keras/functional) to build a ConvNet that can differentiate between 6 sign language digits. \n",
    "\n",
    "The Functional API can handle models with non-linear topology, shared layers, as well as layers with multiple inputs or outputs. Imagine that, where the Sequential API requires the model to move in a linear fashion through its layers, the Functional API allows much more flexibility. Where Sequential is a straight line, a Functional model is a graph, where the nodes of the layers can connect in many more ways than one. \n",
    "\n",
    "In the visual example below, the one possible direction of the movement Sequential model is shown in contrast to a skip connection, which is just one of the many ways a Functional model can be constructed. A skip connection, as you might have guessed, skips some layer in the network and feeds the output to a later layer in the network. Don't worry, you'll be spending more time with skip connections very soon! "
   ]
  },
  {
   "cell_type": "markdown",
   "metadata": {},
   "source": [
    "<img src=\"images/seq_vs_func.png\" style=\"width:350px;height:200px;\">"
   ]
  },
  {
   "cell_type": "markdown",
   "metadata": {},
   "source": [
    "<a name='4-1'></a>\n",
    "### 4.1 - Load the SIGNS Dataset\n",
    "\n",
    "As a reminder, the SIGNS dataset is a collection of 6 signs representing numbers from 0 to 5."
   ]
  },
  {
   "cell_type": "code",
   "execution_count": 10,
   "metadata": {},
   "outputs": [],
   "source": [
    "# Loading the data (signs)\n",
    "X_train_orig, Y_train_orig, X_test_orig, Y_test_orig, classes = load_signs_dataset()"
   ]
  },
  {
   "cell_type": "markdown",
   "metadata": {},
   "source": [
    "<img src=\"images/SIGNS.png\" style=\"width:800px;height:300px;\">\n",
    "\n",
    "The next cell will show you an example of a labelled image in the dataset. Feel free to change the value of `index` below and re-run to see different examples. "
   ]
  },
  {
   "cell_type": "code",
   "execution_count": 11,
   "metadata": {},
   "outputs": [
    {
     "name": "stdout",
     "output_type": "stream",
     "text": [
      "y = 4\n"
     ]
    },
    {
     "data": {
      "image/png": "[encoded data removed]",
      "text/plain": [
       "<Figure size 432x288 with 1 Axes>"
      ]
     },
     "metadata": {
      "needs_background": "light"
     },
     "output_type": "display_data"
    }
   ],
   "source": [
    "# Example of an image from the dataset\n",
    "index = 9\n",
    "plt.imshow(X_train_orig[index])\n",
    "print (\"y = \" + str(np.squeeze(Y_train_orig[:, index])))"
   ]
  },
  {
   "cell_type": "markdown",
   "metadata": {},
   "source": [
    "<a name='4-2'></a>\n",
    "### 4.2 - Split the Data into Train/Test Sets\n",
    "\n",
    "In Course 2, you built a fully-connected network for this dataset. But since this is an image dataset, it is more natural to apply a ConvNet to it.\n",
    "\n",
    "To get started, let's examine the shapes of your data. "
   ]
  },
  {
   "cell_type": "code",
   "execution_count": 12,
   "metadata": {},
   "outputs": [
    {
     "name": "stdout",
     "output_type": "stream",
     "text": [
      "number of training examples = 1080\n",
      "number of test examples = 120\n",
      "X_train shape: (1080, 64, 64, 3)\n",
      "Y_train shape: (1080, 6)\n",
      "X_test shape: (120, 64, 64, 3)\n",
      "Y_test shape: (120, 6)\n"
     ]
    }
   ],
   "source": [
    "X_train = X_train_orig/255.\n",
    "X_test = X_test_orig/255.\n",
    "Y_train = convert_to_one_hot(Y_train_orig, 6).T\n",
    "Y_test = convert_to_one_hot(Y_test_orig, 6).T\n",
    "print (\"number of training examples = \" + str(X_train.shape[0]))\n",
    "print (\"number of test examples = \" + str(X_test.shape[0]))\n",
    "print (\"X_train shape: \" + str(X_train.shape))\n",
    "print (\"Y_train shape: \" + str(Y_train.shape))\n",
    "print (\"X_test shape: \" + str(X_test.shape))\n",
    "print (\"Y_test shape: \" + str(Y_test.shape))"
   ]
  },
  {
   "cell_type": "markdown",
   "metadata": {},
   "source": [
    "<a name='4-3'></a>\n",
    "### 4.3 - Forward Propagation\n",
    "\n",
    "In TensorFlow, there are built-in functions that implement the convolution steps for you. By now, you should be familiar with how TensorFlow builds computational graphs. In the [Functional API](https://www.tensorflow.org/guide/keras/functional), you create a graph of layers. This is what allows such great flexibility.\n",
    "\n",
    "However, the following model could also be defined using the Sequential API since the information flow is on a single line. But don't deviate. What we want you to learn is to use the functional API.\n",
    "\n",
    "Begin building your graph of layers by creating an input node that functions as a callable object:\n",
    "\n",
    "- **input_img = tf.keras.Input(shape=input_shape):** \n",
    "\n",
    "Then, create a new node in the graph of layers by calling a layer on the `input_img` object: \n",
    "\n",
    "- **tf.keras.layers.Conv2D(filters= ... , kernel_size= ... , padding='same')(input_img):** Read the full documentation on [Conv2D](https://www.tensorflow.org/api_docs/python/tf/keras/layers/Conv2D).\n",
    "\n",
    "- **tf.keras.layers.MaxPool2D(pool_size=(f, f), strides=(s, s), padding='same'):** `MaxPool2D()` downsamples your input using a window of size (f, f) and strides of size (s, s) to carry out max pooling over each window.  For max pooling, you usually operate on a single example at a time and a single channel at a time. Read the full documentation on [MaxPool2D](https://www.tensorflow.org/api_docs/python/tf/keras/layers/MaxPool2D).\n",
    "\n",
    "- **tf.keras.layers.ReLU():** computes the elementwise ReLU of Z (which can be any shape). You can read the full documentation on [ReLU](https://www.tensorflow.org/api_docs/python/tf/keras/layers/ReLU).\n",
    "\n",
    "- **tf.keras.layers.Flatten()**: given a tensor \"P\", this function takes each training (or test) example in the batch and flattens it into a 1D vector.  \n",
    "\n",
    "    * If a tensor P has the shape (batch_size,h,w,c), it returns a flattened tensor with shape (batch_size, k), where $k=h \\times w \\times c$.  \"k\" equals the product of all the dimension sizes other than the first dimension.\n",
    "    \n",
    "    * For example, given a tensor with dimensions [100, 2, 3, 4], it flattens the tensor to be of shape [100, 24], where 24 = 2 * 3 * 4.  You can read the full documentation on [Flatten](https://www.tensorflow.org/api_docs/python/tf/keras/layers/Flatten).\n",
    "\n",
    "- **tf.keras.layers.Dense(units= ... , activation='softmax')(F):** given the flattened input F, it returns the output computed using a fully connected layer. You can read the full documentation on [Dense](https://www.tensorflow.org/api_docs/python/tf/keras/layers/Dense).\n",
    "\n",
    "In the last function above (`tf.keras.layers.Dense()`), the fully connected layer automatically initializes weights in the graph and keeps on training them as you train the model. Hence, you did not need to initialize those weights when initializing the parameters.\n",
    "\n",
    "Lastly, before creating the model, you'll need to define the output using the last of the function's compositions (in this example, a Dense layer): \n",
    "\n",
    "- **outputs = tf.keras.layers.Dense(units=6, activation='softmax')(F)**\n",
    "\n",
    "\n",
    "#### Window, kernel, filter, pool\n",
    "\n",
    "The words \"kernel\" and \"filter\" are used to refer to the same thing. The word \"filter\" accounts for the amount of \"kernels\" that will be used in a single convolution layer. \"Pool\" is the name of the operation that takes the max or average value of the kernels. \n",
    "\n",
    "This is why the parameter `pool_size` refers to `kernel_size`, and you use `(f,f)` to refer to the filter size. \n",
    "\n",
    "Pool size and kernel size refer to the same thing in different objects - They refer to the shape of the window where the operation takes place. "
   ]
  },
  {
   "cell_type": "markdown",
   "metadata": {},
   "source": [
    "<a name='ex-2'></a>\n",
    "### Exercise 2 - convolutional_model\n",
    "\n",
    "Implement the `convolutional_model` function below to build the following model: `CONV2D -> RELU -> MAXPOOL -> CONV2D -> RELU -> MAXPOOL -> FLATTEN -> DENSE`. Use the functions above! \n",
    "\n",
    "Also, plug in the following parameters for all the steps:\n",
    "\n",
    " - [Conv2D](https://www.tensorflow.org/api_docs/python/tf/keras/layers/Conv2D): Use 8 4 by 4 filters, stride 1, padding is \"SAME\"\n",
    " - [ReLU](https://www.tensorflow.org/api_docs/python/tf/keras/layers/ReLU)\n",
    " - [MaxPool2D](https://www.tensorflow.org/api_docs/python/tf/keras/layers/MaxPool2D): Use an 8 by 8 filter size and an 8 by 8 stride, padding is \"SAME\"\n",
    " - **Conv2D**: Use 16 2 by 2 filters, stride 1, padding is \"SAME\"\n",
    " - **ReLU**\n",
    " - **MaxPool2D**: Use a 4 by 4 filter size and a 4 by 4 stride, padding is \"SAME\"\n",
    " - [Flatten](https://www.tensorflow.org/api_docs/python/tf/keras/layers/Flatten) the previous output.\n",
    " - Fully-connected ([Dense](https://www.tensorflow.org/api_docs/python/tf/keras/layers/Dense)) layer: Apply a fully connected layer with 6 neurons and a softmax activation. "
   ]
  },
  {
   "cell_type": "code",
   "execution_count": 31,
   "metadata": {
    "deletable": false,
    "nbgrader": {
     "cell_type": "code",
     "checksum": "f58643806aa8380c96225fc8b4c5e7aa",
     "grade": false,
     "grade_id": "cell-dac51744a9e03f51",
     "locked": false,
     "schema_version": 3,
     "solution": true,
     "task": false
    }
   },
   "outputs": [],
   "source": [
    "# GRADED FUNCTION: convolutional_model\n",
    "\n",
    "def convolutional_model(input_shape):\n",
    "    \"\"\"\n",
    "    Implements the forward propagation for the model:\n",
    "    CONV2D -> RELU -> MAXPOOL -> CONV2D -> RELU -> MAXPOOL -> FLATTEN -> DENSE\n",
    "    \n",
    "    Note that for simplicity and grading purposes, you'll hard-code some values\n",
    "    such as the stride and kernel (filter) sizes. \n",
    "    Normally, functions should take these values as function parameters.\n",
    "    \n",
    "    Arguments:\n",
    "    input_img -- input dataset, of shape (input_shape)\n",
    "\n",
    "    Returns:\n",
    "    model -- TF Keras model (object containing the information for the entire training process) \n",
    "    \"\"\"\n",
    "\n",
    "    input_img = tf.keras.Input(shape=input_shape)\n",
    "    ## CONV2D: 8 filters 4x4, stride of 1, padding 'SAME'\n",
    "    Z1 =  tfl.Conv2D(8, kernel_size = (4,4), strides=(1, 1), padding='same')( input_img)\n",
    "    ## RELU\n",
    "    A1 = tfl.ReLU()(Z1)\n",
    "    ## MAXPOOL: window 8x8, stride 8, padding 'SAME'\n",
    "    P1 = tf.keras.layers.MaxPool2D(pool_size=(8,8),strides=8,padding='same')(A1)\n",
    "    ## CONV2D: 16 filters 2x2, stride 1, padding 'SAME'\n",
    "    Z2 = tfl.Conv2D(16, kernel_size = (2,2), strides=(1, 1), padding='same')(P1)\n",
    "    ## RELU\n",
    "    A2 = tfl.ReLU()(Z2)\n",
    "    ## MAXPOOL: window 4x4, stride 4, padding 'SAME'\n",
    "    P2 = tfl.MaxPool2D(pool_size=(4,4),strides=4,padding='same')(A2)\n",
    "    ## FLATTEN\n",
    "    F = tfl.Flatten()(P2)\n",
    "    ## Dense layer\n",
    "    ## 6 neurons in output layer. Hint: one of the arguments should be \"activation='softmax'\" \n",
    "    outputs = tfl.Dense(6, activation='softmax')(F)\n",
    "    # YOUR CODE STARTS HERE\n",
    "    \n",
    "    \n",
    "    # YOUR CODE ENDS HERE\n",
    "    model = tf.keras.Model(inputs=input_img, outputs=outputs)\n",
    "    return model"
   ]
  },
  {
   "cell_type": "code",
   "execution_count": 32,
   "metadata": {
    "deletable": false,
    "editable": false,
    "nbgrader": {
     "cell_type": "code",
     "checksum": "483d626949930a0b0ef20997e7c6ba72",
     "grade": true,
     "grade_id": "cell-45d22e92042174c9",
     "locked": true,
     "points": 10,
     "schema_version": 3,
     "solution": false,
     "task": false
    }
   },
   "outputs": [
    {
     "name": "stdout",
     "output_type": "stream",
     "text": [
      "Model: \"functional_1\"\n",
      "_________________________________________________________________\n",
      "Layer (type)                 Output Shape              Param #   \n",
      "=================================================================\n",
      "input_10 (InputLayer)        [(None, 64, 64, 3)]       0         \n",
      "_________________________________________________________________\n",
      "conv2d_13 (Conv2D)           (None, 64, 64, 8)         392       \n",
      "_________________________________________________________________\n",
      "re_lu_8 (ReLU)               (None, 64, 64, 8)         0         \n",
      "_________________________________________________________________\n",
      "max_pooling2d_5 (MaxPooling2 (None, 8, 8, 8)           0         \n",
      "_________________________________________________________________\n",
      "conv2d_14 (Conv2D)           (None, 8, 8, 16)          528       \n",
      "_________________________________________________________________\n",
      "re_lu_9 (ReLU)               (None, 8, 8, 16)          0         \n",
      "_________________________________________________________________\n",
      "max_pooling2d_6 (MaxPooling2 (None, 2, 2, 16)          0         \n",
      "_________________________________________________________________\n",
      "flatten_1 (Flatten)          (None, 64)                0         \n",
      "_________________________________________________________________\n",
      "dense_1 (Dense)              (None, 6)                 390       \n",
      "=================================================================\n",
      "Total params: 1,310\n",
      "Trainable params: 1,310\n",
      "Non-trainable params: 0\n",
      "_________________________________________________________________\n",
      "\u001b[32mAll tests passed!\u001b[0m\n"
     ]
    }
   ],
   "source": [
    "conv_model = convolutional_model((64, 64, 3))\n",
    "conv_model.compile(optimizer='adam',\n",
    "                  loss='categorical_crossentropy',\n",
    "                  metrics=['accuracy'])\n",
    "conv_model.summary()\n",
    "    \n",
    "output = [['InputLayer', [(None, 64, 64, 3)], 0],\n",
    "        ['Conv2D', (None, 64, 64, 8), 392, 'same', 'linear', 'GlorotUniform'],\n",
    "        ['ReLU', (None, 64, 64, 8), 0],\n",
    "        ['MaxPooling2D', (None, 8, 8, 8), 0, (8, 8), (8, 8), 'same'],\n",
    "        ['Conv2D', (None, 8, 8, 16), 528, 'same', 'linear', 'GlorotUniform'],\n",
    "        ['ReLU', (None, 8, 8, 16), 0],\n",
    "        ['MaxPooling2D', (None, 2, 2, 16), 0, (4, 4), (4, 4), 'same'],\n",
    "        ['Flatten', (None, 64), 0],\n",
    "        ['Dense', (None, 6), 390, 'softmax']]\n",
    "    \n",
    "comparator(summary(conv_model), output)"
   ]
  },
  {
   "cell_type": "markdown",
   "metadata": {},
   "source": [
    "Both the Sequential and Functional APIs return a TF Keras model object. The only difference is how inputs are handled inside the object model! "
   ]
  },
  {
   "cell_type": "markdown",
   "metadata": {},
   "source": [
    "<a name='4-4'></a>\n",
    "### 4.4 - Train the Model"
   ]
  },
  {
   "cell_type": "code",
   "execution_count": 33,
   "metadata": {},
   "outputs": [
    {
     "name": "stdout",
     "output_type": "stream",
     "text": [
      "Epoch 1/100\n",
      "17/17 [==============================] - 2s 112ms/step - loss: 1.8049 - accuracy: 0.1611 - val_loss: 1.7925 - val_accuracy: 0.1833\n",
      "Epoch 2/100\n",
      "17/17 [==============================] - 2s 111ms/step - loss: 1.7919 - accuracy: 0.1898 - val_loss: 1.7884 - val_accuracy: 0.2250\n",
      "Epoch 3/100\n",
      "17/17 [==============================] - 2s 106ms/step - loss: 1.7884 - accuracy: 0.1991 - val_loss: 1.7855 - val_accuracy: 0.3167\n",
      "Epoch 4/100\n",
      "17/17 [==============================] - 2s 112ms/step - loss: 1.7848 - accuracy: 0.2583 - val_loss: 1.7821 - val_accuracy: 0.3167\n",
      "Epoch 5/100\n",
      "17/17 [==============================] - 2s 107ms/step - loss: 1.7816 - accuracy: 0.2870 - val_loss: 1.7773 - val_accuracy: 0.3083\n",
      "Epoch 6/100\n",
      "17/17 [==============================] - 2s 106ms/step - loss: 1.7752 - accuracy: 0.3185 - val_loss: 1.7714 - val_accuracy: 0.3833\n",
      "Epoch 7/100\n",
      "17/17 [==============================] - 2s 106ms/step - loss: 1.7688 - accuracy: 0.3120 - val_loss: 1.7623 - val_accuracy: 0.4000\n",
      "Epoch 8/100\n",
      "17/17 [==============================] - 2s 107ms/step - loss: 1.7605 - accuracy: 0.3352 - val_loss: 1.7510 - val_accuracy: 0.3750\n",
      "Epoch 9/100\n",
      "17/17 [==============================] - 2s 106ms/step - loss: 1.7496 - accuracy: 0.3741 - val_loss: 1.7383 - val_accuracy: 0.4750\n",
      "Epoch 10/100\n",
      "17/17 [==============================] - 2s 106ms/step - loss: 1.7364 - accuracy: 0.3824 - val_loss: 1.7218 - val_accuracy: 0.4833\n",
      "Epoch 11/100\n",
      "17/17 [==============================] - 2s 106ms/step - loss: 1.7189 - accuracy: 0.3981 - val_loss: 1.7008 - val_accuracy: 0.4833\n",
      "Epoch 12/100\n",
      "17/17 [==============================] - 2s 106ms/step - loss: 1.6960 - accuracy: 0.4111 - val_loss: 1.6723 - val_accuracy: 0.4333\n",
      "Epoch 13/100\n",
      "17/17 [==============================] - 2s 112ms/step - loss: 1.6677 - accuracy: 0.4111 - val_loss: 1.6399 - val_accuracy: 0.4250\n",
      "Epoch 14/100\n",
      "17/17 [==============================] - 2s 111ms/step - loss: 1.6327 - accuracy: 0.4380 - val_loss: 1.5985 - val_accuracy: 0.4167\n",
      "Epoch 15/100\n",
      "17/17 [==============================] - 2s 111ms/step - loss: 1.5900 - accuracy: 0.4731 - val_loss: 1.5504 - val_accuracy: 0.4333\n",
      "Epoch 16/100\n",
      "17/17 [==============================] - 2s 111ms/step - loss: 1.5435 - accuracy: 0.4806 - val_loss: 1.4965 - val_accuracy: 0.4500\n",
      "Epoch 17/100\n",
      "17/17 [==============================] - 2s 112ms/step - loss: 1.4942 - accuracy: 0.4806 - val_loss: 1.4468 - val_accuracy: 0.4833\n",
      "Epoch 18/100\n",
      "17/17 [==============================] - 2s 106ms/step - loss: 1.4430 - accuracy: 0.4954 - val_loss: 1.3926 - val_accuracy: 0.5167\n",
      "Epoch 19/100\n",
      "17/17 [==============================] - 2s 106ms/step - loss: 1.3939 - accuracy: 0.5167 - val_loss: 1.3453 - val_accuracy: 0.5250\n",
      "Epoch 20/100\n",
      "17/17 [==============================] - 2s 106ms/step - loss: 1.3464 - accuracy: 0.5370 - val_loss: 1.2970 - val_accuracy: 0.5500\n",
      "Epoch 21/100\n",
      "17/17 [==============================] - 2s 111ms/step - loss: 1.3025 - accuracy: 0.5556 - val_loss: 1.2541 - val_accuracy: 0.5500\n",
      "Epoch 22/100\n",
      "17/17 [==============================] - 2s 106ms/step - loss: 1.2610 - accuracy: 0.5731 - val_loss: 1.2145 - val_accuracy: 0.5583\n",
      "Epoch 23/100\n",
      "17/17 [==============================] - 2s 106ms/step - loss: 1.2212 - accuracy: 0.5870 - val_loss: 1.1788 - val_accuracy: 0.5583\n",
      "Epoch 24/100\n",
      "17/17 [==============================] - 2s 111ms/step - loss: 1.1834 - accuracy: 0.6074 - val_loss: 1.1449 - val_accuracy: 0.5750\n",
      "Epoch 25/100\n",
      "17/17 [==============================] - 2s 111ms/step - loss: 1.1481 - accuracy: 0.6278 - val_loss: 1.1132 - val_accuracy: 0.5917\n",
      "Epoch 26/100\n",
      "17/17 [==============================] - 2s 111ms/step - loss: 1.1145 - accuracy: 0.6417 - val_loss: 1.0837 - val_accuracy: 0.5917\n",
      "Epoch 27/100\n",
      "17/17 [==============================] - 2s 111ms/step - loss: 1.0828 - accuracy: 0.6481 - val_loss: 1.0554 - val_accuracy: 0.5917\n",
      "Epoch 28/100\n",
      "17/17 [==============================] - 2s 112ms/step - loss: 1.0530 - accuracy: 0.6611 - val_loss: 1.0285 - val_accuracy: 0.5917\n",
      "Epoch 29/100\n",
      "17/17 [==============================] - 2s 106ms/step - loss: 1.0239 - accuracy: 0.6713 - val_loss: 1.0029 - val_accuracy: 0.6000\n",
      "Epoch 30/100\n",
      "17/17 [==============================] - 2s 112ms/step - loss: 0.9962 - accuracy: 0.6824 - val_loss: 0.9779 - val_accuracy: 0.6167\n",
      "Epoch 31/100\n",
      "17/17 [==============================] - 2s 107ms/step - loss: 0.9701 - accuracy: 0.6917 - val_loss: 0.9550 - val_accuracy: 0.6333\n",
      "Epoch 32/100\n",
      "17/17 [==============================] - 2s 107ms/step - loss: 0.9458 - accuracy: 0.7009 - val_loss: 0.9342 - val_accuracy: 0.6417\n",
      "Epoch 33/100\n",
      "17/17 [==============================] - 2s 106ms/step - loss: 0.9231 - accuracy: 0.7111 - val_loss: 0.9147 - val_accuracy: 0.6500\n",
      "Epoch 34/100\n",
      "17/17 [==============================] - 2s 107ms/step - loss: 0.9015 - accuracy: 0.7213 - val_loss: 0.8963 - val_accuracy: 0.6500\n",
      "Epoch 35/100\n",
      "17/17 [==============================] - 2s 112ms/step - loss: 0.8808 - accuracy: 0.7278 - val_loss: 0.8791 - val_accuracy: 0.6583\n",
      "Epoch 36/100\n",
      "17/17 [==============================] - 2s 106ms/step - loss: 0.8614 - accuracy: 0.7306 - val_loss: 0.8622 - val_accuracy: 0.6500\n",
      "Epoch 37/100\n",
      "17/17 [==============================] - 2s 106ms/step - loss: 0.8430 - accuracy: 0.7333 - val_loss: 0.8463 - val_accuracy: 0.6500\n",
      "Epoch 38/100\n",
      "17/17 [==============================] - 2s 112ms/step - loss: 0.8254 - accuracy: 0.7352 - val_loss: 0.8312 - val_accuracy: 0.6583\n",
      "Epoch 39/100\n",
      "17/17 [==============================] - 2s 111ms/step - loss: 0.8092 - accuracy: 0.7426 - val_loss: 0.8176 - val_accuracy: 0.6500\n",
      "Epoch 40/100\n",
      "17/17 [==============================] - 2s 106ms/step - loss: 0.7936 - accuracy: 0.7463 - val_loss: 0.8038 - val_accuracy: 0.6583\n",
      "Epoch 41/100\n",
      "17/17 [==============================] - 2s 106ms/step - loss: 0.7791 - accuracy: 0.7500 - val_loss: 0.7910 - val_accuracy: 0.6833\n",
      "Epoch 42/100\n",
      "17/17 [==============================] - 2s 106ms/step - loss: 0.7651 - accuracy: 0.7546 - val_loss: 0.7788 - val_accuracy: 0.6917\n",
      "Epoch 43/100\n",
      "17/17 [==============================] - 2s 106ms/step - loss: 0.7519 - accuracy: 0.7611 - val_loss: 0.7679 - val_accuracy: 0.6917\n",
      "Epoch 44/100\n",
      "17/17 [==============================] - 2s 106ms/step - loss: 0.7394 - accuracy: 0.7639 - val_loss: 0.7571 - val_accuracy: 0.6917\n",
      "Epoch 45/100\n",
      "17/17 [==============================] - 2s 112ms/step - loss: 0.7273 - accuracy: 0.7694 - val_loss: 0.7464 - val_accuracy: 0.7000\n",
      "Epoch 46/100\n",
      "17/17 [==============================] - 2s 111ms/step - loss: 0.7159 - accuracy: 0.7741 - val_loss: 0.7363 - val_accuracy: 0.7083\n",
      "Epoch 47/100\n",
      "17/17 [==============================] - 2s 111ms/step - loss: 0.7049 - accuracy: 0.7787 - val_loss: 0.7262 - val_accuracy: 0.7083\n",
      "Epoch 48/100\n",
      "17/17 [==============================] - 2s 111ms/step - loss: 0.6942 - accuracy: 0.7824 - val_loss: 0.7163 - val_accuracy: 0.7083\n",
      "Epoch 49/100\n",
      "17/17 [==============================] - 2s 111ms/step - loss: 0.6839 - accuracy: 0.7852 - val_loss: 0.7074 - val_accuracy: 0.7083\n",
      "Epoch 50/100\n",
      "17/17 [==============================] - 2s 111ms/step - loss: 0.6742 - accuracy: 0.7880 - val_loss: 0.6988 - val_accuracy: 0.7083\n",
      "Epoch 51/100\n",
      "17/17 [==============================] - 2s 111ms/step - loss: 0.6646 - accuracy: 0.7880 - val_loss: 0.6902 - val_accuracy: 0.7083\n",
      "Epoch 52/100\n",
      "17/17 [==============================] - 2s 106ms/step - loss: 0.6556 - accuracy: 0.7907 - val_loss: 0.6822 - val_accuracy: 0.7083\n",
      "Epoch 53/100\n",
      "17/17 [==============================] - 2s 106ms/step - loss: 0.6466 - accuracy: 0.7944 - val_loss: 0.6741 - val_accuracy: 0.7083\n",
      "Epoch 54/100\n",
      "17/17 [==============================] - 2s 107ms/step - loss: 0.6380 - accuracy: 0.7963 - val_loss: 0.6663 - val_accuracy: 0.7167\n",
      "Epoch 55/100\n",
      "17/17 [==============================] - 2s 112ms/step - loss: 0.6297 - accuracy: 0.7981 - val_loss: 0.6581 - val_accuracy: 0.7167\n",
      "Epoch 56/100\n",
      "17/17 [==============================] - 2s 106ms/step - loss: 0.6218 - accuracy: 0.8009 - val_loss: 0.6508 - val_accuracy: 0.7167\n",
      "Epoch 57/100\n",
      "17/17 [==============================] - 2s 106ms/step - loss: 0.6138 - accuracy: 0.8056 - val_loss: 0.6430 - val_accuracy: 0.7167\n",
      "Epoch 58/100\n",
      "17/17 [==============================] - 2s 106ms/step - loss: 0.6062 - accuracy: 0.8102 - val_loss: 0.6359 - val_accuracy: 0.7250\n",
      "Epoch 59/100\n",
      "17/17 [==============================] - 2s 112ms/step - loss: 0.5989 - accuracy: 0.8102 - val_loss: 0.6286 - val_accuracy: 0.7250\n",
      "Epoch 60/100\n",
      "17/17 [==============================] - 2s 106ms/step - loss: 0.5923 - accuracy: 0.8120 - val_loss: 0.6217 - val_accuracy: 0.7333\n",
      "Epoch 61/100\n",
      "17/17 [==============================] - 2s 111ms/step - loss: 0.5851 - accuracy: 0.8139 - val_loss: 0.6141 - val_accuracy: 0.7417\n",
      "Epoch 62/100\n",
      "17/17 [==============================] - 2s 106ms/step - loss: 0.5784 - accuracy: 0.8148 - val_loss: 0.6080 - val_accuracy: 0.7333\n",
      "Epoch 63/100\n",
      "17/17 [==============================] - 2s 106ms/step - loss: 0.5719 - accuracy: 0.8148 - val_loss: 0.6014 - val_accuracy: 0.7333\n",
      "Epoch 64/100\n",
      "17/17 [==============================] - 2s 106ms/step - loss: 0.5656 - accuracy: 0.8157 - val_loss: 0.5952 - val_accuracy: 0.7500\n",
      "Epoch 65/100\n",
      "17/17 [==============================] - 2s 106ms/step - loss: 0.5593 - accuracy: 0.8204 - val_loss: 0.5892 - val_accuracy: 0.7583\n",
      "Epoch 66/100\n",
      "17/17 [==============================] - 2s 111ms/step - loss: 0.5532 - accuracy: 0.8222 - val_loss: 0.5833 - val_accuracy: 0.7667\n",
      "Epoch 67/100\n",
      "17/17 [==============================] - 2s 111ms/step - loss: 0.5472 - accuracy: 0.8231 - val_loss: 0.5777 - val_accuracy: 0.7750\n",
      "Epoch 68/100\n",
      "17/17 [==============================] - 2s 111ms/step - loss: 0.5413 - accuracy: 0.8250 - val_loss: 0.5724 - val_accuracy: 0.7833\n",
      "Epoch 69/100\n",
      "17/17 [==============================] - 2s 107ms/step - loss: 0.5354 - accuracy: 0.8259 - val_loss: 0.5668 - val_accuracy: 0.8000\n",
      "Epoch 70/100\n",
      "17/17 [==============================] - 2s 107ms/step - loss: 0.5297 - accuracy: 0.8296 - val_loss: 0.5619 - val_accuracy: 0.8000\n",
      "Epoch 71/100\n",
      "17/17 [==============================] - 2s 106ms/step - loss: 0.5243 - accuracy: 0.8333 - val_loss: 0.5566 - val_accuracy: 0.8000\n",
      "Epoch 72/100\n",
      "17/17 [==============================] - 2s 107ms/step - loss: 0.5192 - accuracy: 0.8352 - val_loss: 0.5518 - val_accuracy: 0.8000\n",
      "Epoch 73/100\n",
      "17/17 [==============================] - 2s 107ms/step - loss: 0.5139 - accuracy: 0.8361 - val_loss: 0.5468 - val_accuracy: 0.8000\n",
      "Epoch 74/100\n",
      "17/17 [==============================] - 2s 106ms/step - loss: 0.5089 - accuracy: 0.8370 - val_loss: 0.5421 - val_accuracy: 0.8000\n",
      "Epoch 75/100\n",
      "17/17 [==============================] - 2s 107ms/step - loss: 0.5038 - accuracy: 0.8389 - val_loss: 0.5380 - val_accuracy: 0.8000\n",
      "Epoch 76/100\n",
      "17/17 [==============================] - 2s 106ms/step - loss: 0.4991 - accuracy: 0.8389 - val_loss: 0.5331 - val_accuracy: 0.8000\n",
      "Epoch 77/100\n",
      "17/17 [==============================] - 2s 107ms/step - loss: 0.4941 - accuracy: 0.8426 - val_loss: 0.5288 - val_accuracy: 0.8083\n",
      "Epoch 78/100\n",
      "17/17 [==============================] - 2s 106ms/step - loss: 0.4897 - accuracy: 0.8463 - val_loss: 0.5244 - val_accuracy: 0.8083\n",
      "Epoch 79/100\n",
      "17/17 [==============================] - 2s 107ms/step - loss: 0.4850 - accuracy: 0.8472 - val_loss: 0.5203 - val_accuracy: 0.8083\n",
      "Epoch 80/100\n",
      "17/17 [==============================] - 2s 106ms/step - loss: 0.4807 - accuracy: 0.8500 - val_loss: 0.5162 - val_accuracy: 0.8083\n",
      "Epoch 81/100\n",
      "17/17 [==============================] - 2s 106ms/step - loss: 0.4761 - accuracy: 0.8519 - val_loss: 0.5123 - val_accuracy: 0.8083\n",
      "Epoch 82/100\n",
      "17/17 [==============================] - 2s 106ms/step - loss: 0.4718 - accuracy: 0.8537 - val_loss: 0.5085 - val_accuracy: 0.8083\n",
      "Epoch 83/100\n",
      "17/17 [==============================] - 2s 112ms/step - loss: 0.4675 - accuracy: 0.8583 - val_loss: 0.5050 - val_accuracy: 0.8083\n",
      "Epoch 84/100\n",
      "17/17 [==============================] - 2s 111ms/step - loss: 0.4636 - accuracy: 0.8602 - val_loss: 0.5017 - val_accuracy: 0.8083\n",
      "Epoch 85/100\n",
      "17/17 [==============================] - 2s 111ms/step - loss: 0.4595 - accuracy: 0.8620 - val_loss: 0.4978 - val_accuracy: 0.8167\n",
      "Epoch 86/100\n",
      "17/17 [==============================] - 2s 112ms/step - loss: 0.4556 - accuracy: 0.8620 - val_loss: 0.4943 - val_accuracy: 0.8167\n",
      "Epoch 87/100\n",
      "17/17 [==============================] - 2s 107ms/step - loss: 0.4516 - accuracy: 0.8620 - val_loss: 0.4913 - val_accuracy: 0.8167\n",
      "Epoch 88/100\n",
      "17/17 [==============================] - 2s 112ms/step - loss: 0.4478 - accuracy: 0.8620 - val_loss: 0.4876 - val_accuracy: 0.8167\n",
      "Epoch 89/100\n",
      "17/17 [==============================] - 2s 111ms/step - loss: 0.4439 - accuracy: 0.8630 - val_loss: 0.4847 - val_accuracy: 0.8167\n",
      "Epoch 90/100\n",
      "17/17 [==============================] - 2s 106ms/step - loss: 0.4400 - accuracy: 0.8630 - val_loss: 0.4813 - val_accuracy: 0.8167\n",
      "Epoch 91/100\n",
      "17/17 [==============================] - 2s 106ms/step - loss: 0.4363 - accuracy: 0.8639 - val_loss: 0.4782 - val_accuracy: 0.8250\n",
      "Epoch 92/100\n",
      "17/17 [==============================] - 2s 112ms/step - loss: 0.4327 - accuracy: 0.8639 - val_loss: 0.4749 - val_accuracy: 0.8250\n",
      "Epoch 93/100\n",
      "17/17 [==============================] - 2s 112ms/step - loss: 0.4292 - accuracy: 0.8648 - val_loss: 0.4719 - val_accuracy: 0.8250\n",
      "Epoch 94/100\n",
      "17/17 [==============================] - 2s 112ms/step - loss: 0.4257 - accuracy: 0.8648 - val_loss: 0.4687 - val_accuracy: 0.8250\n",
      "Epoch 95/100\n",
      "17/17 [==============================] - 2s 111ms/step - loss: 0.4224 - accuracy: 0.8667 - val_loss: 0.4655 - val_accuracy: 0.8250\n",
      "Epoch 96/100\n",
      "17/17 [==============================] - 2s 111ms/step - loss: 0.4189 - accuracy: 0.8667 - val_loss: 0.4622 - val_accuracy: 0.8250\n",
      "Epoch 97/100\n",
      "17/17 [==============================] - 2s 106ms/step - loss: 0.4156 - accuracy: 0.8657 - val_loss: 0.4595 - val_accuracy: 0.8333\n",
      "Epoch 98/100\n",
      "17/17 [==============================] - 2s 107ms/step - loss: 0.4122 - accuracy: 0.8685 - val_loss: 0.4564 - val_accuracy: 0.8333\n",
      "Epoch 99/100\n",
      "17/17 [==============================] - 2s 112ms/step - loss: 0.4088 - accuracy: 0.8685 - val_loss: 0.4544 - val_accuracy: 0.8417\n",
      "Epoch 100/100\n",
      "17/17 [==============================] - 2s 112ms/step - loss: 0.4055 - accuracy: 0.8741 - val_loss: 0.4519 - val_accuracy: 0.8333\n"
     ]
    }
   ],
   "source": [
    "train_dataset = tf.data.Dataset.from_tensor_slices((X_train, Y_train)).batch(64)\n",
    "test_dataset = tf.data.Dataset.from_tensor_slices((X_test, Y_test)).batch(64)\n",
    "history = conv_model.fit(train_dataset, epochs=100, validation_data=test_dataset)"
   ]
  },
  {
   "cell_type": "markdown",
   "metadata": {},
   "source": [
    "<a name='5'></a>\n",
    "## 5 - History Object \n",
    "\n",
    "The history object is an output of the `.fit()` operation, and provides a record of all the loss and metric values in memory. It's stored as a dictionary that you can retrieve at `history.history`: "
   ]
  },
  {
   "cell_type": "code",
   "execution_count": 34,
   "metadata": {},
   "outputs": [
    {
     "data": {
      "text/plain": [
       "{'loss': [1.8049166202545166,\n",
       "  1.791890025138855,\n",
       "  1.7883762121200562,\n",
       "  1.7848402261734009,\n",
       "  1.7816059589385986,\n",
       "  1.7752424478530884,\n",
       "  1.7688242197036743,\n",
       "  1.7605361938476562,\n",
       "  1.7495793104171753,\n",
       "  1.7364072799682617,\n",
       "  1.718916654586792,\n",
       "  1.6959830522537231,\n",
       "  1.6676881313323975,\n",
       "  1.6326652765274048,\n",
       "  1.5899908542633057,\n",
       "  1.5435352325439453,\n",
       "  1.4942495822906494,\n",
       "  1.4429925680160522,\n",
       "  1.393896460533142,\n",
       "  1.346359372138977,\n",
       "  1.3025020360946655,\n",
       "  1.2610416412353516,\n",
       "  1.2211856842041016,\n",
       "  1.1834391355514526,\n",
       "  1.1480551958084106,\n",
       "  1.1145401000976562,\n",
       "  1.0827925205230713,\n",
       "  1.0529886484146118,\n",
       "  1.0238823890686035,\n",
       "  0.9962064623832703,\n",
       "  0.9700537919998169,\n",
       "  0.9458004236221313,\n",
       "  0.9230809807777405,\n",
       "  0.901477038860321,\n",
       "  0.8808072209358215,\n",
       "  0.8613937497138977,\n",
       "  0.843000590801239,\n",
       "  0.8253874182701111,\n",
       "  0.8092215061187744,\n",
       "  0.7936390042304993,\n",
       "  0.7791034579277039,\n",
       "  0.7650570869445801,\n",
       "  0.7519250512123108,\n",
       "  0.7393555641174316,\n",
       "  0.7273009419441223,\n",
       "  0.7158960700035095,\n",
       "  0.704923689365387,\n",
       "  0.6942463517189026,\n",
       "  0.6838867664337158,\n",
       "  0.6742310523986816,\n",
       "  0.6646150350570679,\n",
       "  0.6555964946746826,\n",
       "  0.6466024518013,\n",
       "  0.637992262840271,\n",
       "  0.629684567451477,\n",
       "  0.6218319535255432,\n",
       "  0.6137554049491882,\n",
       "  0.6062232851982117,\n",
       "  0.5989469885826111,\n",
       "  0.5922653675079346,\n",
       "  0.5851483941078186,\n",
       "  0.5783699154853821,\n",
       "  0.5718823075294495,\n",
       "  0.5655606389045715,\n",
       "  0.5592700242996216,\n",
       "  0.5532346963882446,\n",
       "  0.5471619963645935,\n",
       "  0.5412778258323669,\n",
       "  0.5354423522949219,\n",
       "  0.5297440886497498,\n",
       "  0.5243141055107117,\n",
       "  0.519152820110321,\n",
       "  0.5138987302780151,\n",
       "  0.508940577507019,\n",
       "  0.5037574768066406,\n",
       "  0.499111533164978,\n",
       "  0.49410486221313477,\n",
       "  0.48969489336013794,\n",
       "  0.48497292399406433,\n",
       "  0.48070651292800903,\n",
       "  0.47606292366981506,\n",
       "  0.47183549404144287,\n",
       "  0.46754714846611023,\n",
       "  0.46355563402175903,\n",
       "  0.4594572186470032,\n",
       "  0.45563608407974243,\n",
       "  0.4515591561794281,\n",
       "  0.4478457570075989,\n",
       "  0.44392064213752747,\n",
       "  0.44004255533218384,\n",
       "  0.4363366365432739,\n",
       "  0.4327166974544525,\n",
       "  0.42924964427948,\n",
       "  0.4256824851036072,\n",
       "  0.4223853051662445,\n",
       "  0.4188857078552246,\n",
       "  0.41557377576828003,\n",
       "  0.41219693422317505,\n",
       "  0.4087893068790436,\n",
       "  0.4054745137691498],\n",
       " 'accuracy': [0.16111111640930176,\n",
       "  0.18981482088565826,\n",
       "  0.19907407462596893,\n",
       "  0.25833332538604736,\n",
       "  0.28703704476356506,\n",
       "  0.3185185194015503,\n",
       "  0.31203705072402954,\n",
       "  0.3351851999759674,\n",
       "  0.3740740716457367,\n",
       "  0.38240739703178406,\n",
       "  0.39814814925193787,\n",
       "  0.41111111640930176,\n",
       "  0.41111111640930176,\n",
       "  0.43796294927597046,\n",
       "  0.4731481373310089,\n",
       "  0.48055556416511536,\n",
       "  0.48055556416511536,\n",
       "  0.49537035822868347,\n",
       "  0.5166666507720947,\n",
       "  0.5370370149612427,\n",
       "  0.5555555820465088,\n",
       "  0.5731481313705444,\n",
       "  0.5870370268821716,\n",
       "  0.6074073910713196,\n",
       "  0.6277777552604675,\n",
       "  0.6416666507720947,\n",
       "  0.6481481194496155,\n",
       "  0.6611111164093018,\n",
       "  0.6712962985038757,\n",
       "  0.6824073791503906,\n",
       "  0.6916666626930237,\n",
       "  0.7009259462356567,\n",
       "  0.7111111283302307,\n",
       "  0.7212963104248047,\n",
       "  0.7277777791023254,\n",
       "  0.730555534362793,\n",
       "  0.7333333492279053,\n",
       "  0.7351852059364319,\n",
       "  0.7425925731658936,\n",
       "  0.7462962865829468,\n",
       "  0.75,\n",
       "  0.7546296119689941,\n",
       "  0.7611111402511597,\n",
       "  0.7638888955116272,\n",
       "  0.769444465637207,\n",
       "  0.7740740776062012,\n",
       "  0.7787036895751953,\n",
       "  0.7824074029922485,\n",
       "  0.7851851582527161,\n",
       "  0.7879629731178284,\n",
       "  0.7879629731178284,\n",
       "  0.7907407283782959,\n",
       "  0.7944444417953491,\n",
       "  0.7962962985038757,\n",
       "  0.7981481552124023,\n",
       "  0.8009259104728699,\n",
       "  0.8055555820465088,\n",
       "  0.8101851940155029,\n",
       "  0.8101851940155029,\n",
       "  0.8120370507240295,\n",
       "  0.8138889074325562,\n",
       "  0.8148148059844971,\n",
       "  0.8148148059844971,\n",
       "  0.8157407641410828,\n",
       "  0.8203703761100769,\n",
       "  0.8222222328186035,\n",
       "  0.8231481313705444,\n",
       "  0.824999988079071,\n",
       "  0.8259259462356567,\n",
       "  0.8296296000480652,\n",
       "  0.8333333134651184,\n",
       "  0.835185170173645,\n",
       "  0.8361111283302307,\n",
       "  0.8370370268821716,\n",
       "  0.8388888835906982,\n",
       "  0.8388888835906982,\n",
       "  0.8425925970077515,\n",
       "  0.8462963104248047,\n",
       "  0.8472222089767456,\n",
       "  0.8500000238418579,\n",
       "  0.8518518805503845,\n",
       "  0.8537036776542664,\n",
       "  0.8583333492279053,\n",
       "  0.8601852059364319,\n",
       "  0.8620370626449585,\n",
       "  0.8620370626449585,\n",
       "  0.8620370626449585,\n",
       "  0.8620370626449585,\n",
       "  0.8629629611968994,\n",
       "  0.8629629611968994,\n",
       "  0.8638888597488403,\n",
       "  0.8638888597488403,\n",
       "  0.864814817905426,\n",
       "  0.864814817905426,\n",
       "  0.8666666746139526,\n",
       "  0.8666666746139526,\n",
       "  0.8657407164573669,\n",
       "  0.8685185313224792,\n",
       "  0.8685185313224792,\n",
       "  0.8740741014480591],\n",
       " 'val_loss': [1.7925447225570679,\n",
       "  1.7884336709976196,\n",
       "  1.7854887247085571,\n",
       "  1.7821427583694458,\n",
       "  1.7773025035858154,\n",
       "  1.7713642120361328,\n",
       "  1.762340784072876,\n",
       "  1.7510409355163574,\n",
       "  1.73829984664917,\n",
       "  1.7217601537704468,\n",
       "  1.700777530670166,\n",
       "  1.6723014116287231,\n",
       "  1.6399015188217163,\n",
       "  1.5984567403793335,\n",
       "  1.550413727760315,\n",
       "  1.4965206384658813,\n",
       "  1.446795105934143,\n",
       "  1.392585277557373,\n",
       "  1.3452588319778442,\n",
       "  1.2970291376113892,\n",
       "  1.2540857791900635,\n",
       "  1.2144535779953003,\n",
       "  1.1787798404693604,\n",
       "  1.1449135541915894,\n",
       "  1.1131911277770996,\n",
       "  1.0836669206619263,\n",
       "  1.0553706884384155,\n",
       "  1.0285042524337769,\n",
       "  1.002879023551941,\n",
       "  0.977898895740509,\n",
       "  0.9549726843833923,\n",
       "  0.9341585636138916,\n",
       "  0.9146500825881958,\n",
       "  0.8962595462799072,\n",
       "  0.8791334629058838,\n",
       "  0.8621727228164673,\n",
       "  0.8462610840797424,\n",
       "  0.831236720085144,\n",
       "  0.8175524473190308,\n",
       "  0.8037574291229248,\n",
       "  0.7909765839576721,\n",
       "  0.7788295745849609,\n",
       "  0.7679139971733093,\n",
       "  0.7571130990982056,\n",
       "  0.7464229464530945,\n",
       "  0.7363091707229614,\n",
       "  0.7262424826622009,\n",
       "  0.7162691354751587,\n",
       "  0.7073509693145752,\n",
       "  0.6988191604614258,\n",
       "  0.690234363079071,\n",
       "  0.6822375059127808,\n",
       "  0.6741045713424683,\n",
       "  0.6662911772727966,\n",
       "  0.6581093072891235,\n",
       "  0.6507644653320312,\n",
       "  0.6429811716079712,\n",
       "  0.6359045505523682,\n",
       "  0.6286081671714783,\n",
       "  0.6216869354248047,\n",
       "  0.614113986492157,\n",
       "  0.6079753041267395,\n",
       "  0.6013570427894592,\n",
       "  0.5951669216156006,\n",
       "  0.5891849398612976,\n",
       "  0.5832687616348267,\n",
       "  0.5777252316474915,\n",
       "  0.5723618865013123,\n",
       "  0.5668133497238159,\n",
       "  0.5618945360183716,\n",
       "  0.5566018223762512,\n",
       "  0.5517672300338745,\n",
       "  0.5468032956123352,\n",
       "  0.5421180129051208,\n",
       "  0.5380321741104126,\n",
       "  0.53309565782547,\n",
       "  0.5288257598876953,\n",
       "  0.5244377255439758,\n",
       "  0.5202914476394653,\n",
       "  0.5162097811698914,\n",
       "  0.5123065114021301,\n",
       "  0.5085241794586182,\n",
       "  0.5049726366996765,\n",
       "  0.5016686916351318,\n",
       "  0.49775442481040955,\n",
       "  0.4943438470363617,\n",
       "  0.4913424253463745,\n",
       "  0.4875856935977936,\n",
       "  0.48474937677383423,\n",
       "  0.48131063580513,\n",
       "  0.4782046675682068,\n",
       "  0.4748923182487488,\n",
       "  0.4719458222389221,\n",
       "  0.4687493145465851,\n",
       "  0.4655446708202362,\n",
       "  0.4622088074684143,\n",
       "  0.4595131576061249,\n",
       "  0.45642969012260437,\n",
       "  0.4543554484844208,\n",
       "  0.451903373003006],\n",
       " 'val_accuracy': [0.18333333730697632,\n",
       "  0.22499999403953552,\n",
       "  0.3166666626930237,\n",
       "  0.3166666626930237,\n",
       "  0.3083333373069763,\n",
       "  0.38333332538604736,\n",
       "  0.4000000059604645,\n",
       "  0.375,\n",
       "  0.4749999940395355,\n",
       "  0.4833333194255829,\n",
       "  0.4833333194255829,\n",
       "  0.4333333373069763,\n",
       "  0.42500001192092896,\n",
       "  0.4166666567325592,\n",
       "  0.4333333373069763,\n",
       "  0.44999998807907104,\n",
       "  0.4833333194255829,\n",
       "  0.5166666507720947,\n",
       "  0.5249999761581421,\n",
       "  0.550000011920929,\n",
       "  0.550000011920929,\n",
       "  0.5583333373069763,\n",
       "  0.5583333373069763,\n",
       "  0.574999988079071,\n",
       "  0.5916666388511658,\n",
       "  0.5916666388511658,\n",
       "  0.5916666388511658,\n",
       "  0.5916666388511658,\n",
       "  0.6000000238418579,\n",
       "  0.6166666746139526,\n",
       "  0.6333333253860474,\n",
       "  0.6416666507720947,\n",
       "  0.6499999761581421,\n",
       "  0.6499999761581421,\n",
       "  0.6583333611488342,\n",
       "  0.6499999761581421,\n",
       "  0.6499999761581421,\n",
       "  0.6583333611488342,\n",
       "  0.6499999761581421,\n",
       "  0.6583333611488342,\n",
       "  0.6833333373069763,\n",
       "  0.6916666626930237,\n",
       "  0.6916666626930237,\n",
       "  0.6916666626930237,\n",
       "  0.699999988079071,\n",
       "  0.7083333134651184,\n",
       "  0.7083333134651184,\n",
       "  0.7083333134651184,\n",
       "  0.7083333134651184,\n",
       "  0.7083333134651184,\n",
       "  0.7083333134651184,\n",
       "  0.7083333134651184,\n",
       "  0.7083333134651184,\n",
       "  0.7166666388511658,\n",
       "  0.7166666388511658,\n",
       "  0.7166666388511658,\n",
       "  0.7166666388511658,\n",
       "  0.7250000238418579,\n",
       "  0.7250000238418579,\n",
       "  0.7333333492279053,\n",
       "  0.7416666746139526,\n",
       "  0.7333333492279053,\n",
       "  0.7333333492279053,\n",
       "  0.75,\n",
       "  0.7583333253860474,\n",
       "  0.7666666507720947,\n",
       "  0.7749999761581421,\n",
       "  0.7833333611488342,\n",
       "  0.800000011920929,\n",
       "  0.800000011920929,\n",
       "  0.800000011920929,\n",
       "  0.800000011920929,\n",
       "  0.800000011920929,\n",
       "  0.800000011920929,\n",
       "  0.800000011920929,\n",
       "  0.800000011920929,\n",
       "  0.8083333373069763,\n",
       "  0.8083333373069763,\n",
       "  0.8083333373069763,\n",
       "  0.8083333373069763,\n",
       "  0.8083333373069763,\n",
       "  0.8083333373069763,\n",
       "  0.8083333373069763,\n",
       "  0.8083333373069763,\n",
       "  0.8166666626930237,\n",
       "  0.8166666626930237,\n",
       "  0.8166666626930237,\n",
       "  0.8166666626930237,\n",
       "  0.8166666626930237,\n",
       "  0.8166666626930237,\n",
       "  0.824999988079071,\n",
       "  0.824999988079071,\n",
       "  0.824999988079071,\n",
       "  0.824999988079071,\n",
       "  0.824999988079071,\n",
       "  0.824999988079071,\n",
       "  0.8333333134651184,\n",
       "  0.8333333134651184,\n",
       "  0.8416666388511658,\n",
       "  0.8333333134651184]}"
      ]
     },
     "execution_count": 34,
     "metadata": {},
     "output_type": "execute_result"
    }
   ],
   "source": [
    "history.history"
   ]
  },
  {
   "cell_type": "markdown",
   "metadata": {},
   "source": [
    "Now visualize the loss over time using `history.history`: "
   ]
  },
  {
   "cell_type": "code",
   "execution_count": 35,
   "metadata": {},
   "outputs": [
    {
     "data": {
      "text/plain": [
       "[Text(0, 0.5, 'Accuracy'), Text(0.5, 0, 'Epoch')]"
      ]
     },
     "execution_count": 35,
     "metadata": {},
     "output_type": "execute_result"
    },
    {
     "data": {
      "image/png": "[encoded data removed]",
      "text/plain": [
       "<Figure size 864x576 with 1 Axes>"
      ]
     },
     "metadata": {
      "needs_background": "light"
     },
     "output_type": "display_data"
    },
    {
     "data": {
      "image/png": "[encoded data removed]",
      "text/plain": [
       "<Figure size 864x576 with 1 Axes>"
      ]
     },
     "metadata": {
      "needs_background": "light"
     },
     "output_type": "display_data"
    }
   ],
   "source": [
    "# The history.history[\"loss\"] entry is a dictionary with as many values as epochs that the\n",
    "# model was trained on. \n",
    "df_loss_acc = pd.DataFrame(history.history)\n",
    "df_loss= df_loss_acc[['loss','val_loss']]\n",
    "df_loss.rename(columns={'loss':'train','val_loss':'validation'},inplace=True)\n",
    "df_acc= df_loss_acc[['accuracy','val_accuracy']]\n",
    "df_acc.rename(columns={'accuracy':'train','val_accuracy':'validation'},inplace=True)\n",
    "df_loss.plot(title='Model loss',figsize=(12,8)).set(xlabel='Epoch',ylabel='Loss')\n",
    "df_acc.plot(title='Model Accuracy',figsize=(12,8)).set(xlabel='Epoch',ylabel='Accuracy')"
   ]
  },
  {
   "cell_type": "markdown",
   "metadata": {},
   "source": [
    "**Congratulations**! You've finished the assignment and built two models: One that recognizes  smiles, and another that recognizes SIGN language with almost 80% accuracy on the test set. In addition to that, you now also understand the applications of two Keras APIs: Sequential and Functional. Nicely done! \n",
    "\n",
    "By now, you know a bit about how the Functional API works and may have glimpsed the possibilities. In your next assignment, you'll really get a feel for its power when you get the opportunity to build a very deep ConvNet, using ResNets! "
   ]
  },
  {
   "cell_type": "markdown",
   "metadata": {},
   "source": [
    "<a name='6'></a>\n",
    "## 6 - Bibliography\n",
    "\n",
    "You're always encouraged to read the official documentation. To that end, you can find the docs for the Sequential and Functional APIs here: \n",
    "\n",
    "https://www.tensorflow.org/guide/keras/sequential_model\n",
    "\n",
    "https://www.tensorflow.org/guide/keras/functional"
   ]
  }
 ],
 "metadata": {
  "coursera": {
   "course_slug": "convolutional-neural-networks",
   "graded_item_id": "bwbJV",
   "launcher_item_id": "0TkXB"
  },
  "kernelspec": {
   "display_name": "Python 3",
   "language": "python",
   "name": "python3"
  },
  "language_info": {
   "codemirror_mode": {
    "name": "ipython",
    "version": 3
   },
   "file_extension": ".py",
   "mimetype": "text/x-python",
   "name": "python",
   "nbconvert_exporter": "python",
   "pygments_lexer": "ipython3",
   "version": "3.7.6"
  }
 },
 "nbformat": 4,
 "nbformat_minor": 2
}
